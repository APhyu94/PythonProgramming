{
  "nbformat": 4,
  "nbformat_minor": 0,
  "metadata": {
    "colab": {
      "name": "Ex5_Function.ipynb",
      "provenance": [],
      "authorship_tag": "ABX9TyOc19BkvVV1F7h4PXyyYuJC",
      "include_colab_link": true
    },
    "kernelspec": {
      "name": "python3",
      "display_name": "Python 3"
    },
    "language_info": {
      "name": "python"
    }
  },
  "cells": [
    {
      "cell_type": "markdown",
      "metadata": {
        "id": "view-in-github",
        "colab_type": "text"
      },
      "source": [
        "<a href=\"https://colab.research.google.com/github/myothida/PythonProgramming/blob/main/Ex5_Function.ipynb\" target=\"_parent\"><img src=\"https://colab.research.google.com/assets/colab-badge.svg\" alt=\"Open In Colab\"/></a>"
      ]
    },
    {
      "cell_type": "markdown",
      "source": [
        "Exercises are taken from : https://www.brianheinold.net/python/A_Practical_Introduction_to_Python_Programming_Heinold.pdf\n"
      ],
      "metadata": {
        "id": "b-1b6ywy-O5i"
      }
    },
    {
      "cell_type": "markdown",
      "source": [
        "Ex 1: Write a function called rectangle that takes two integers m and n as arguments and prints\n",
        "out an m× n box consisting of asterisks. Shown below is the output of rectangle(2,4)\n",
        "****\n",
        "***"
      ],
      "metadata": {
        "id": "pps5xBbs-I9w"
      }
    },
    {
      "cell_type": "code",
      "execution_count": null,
      "metadata": {
        "id": "S_5WWVLH3u8y"
      },
      "outputs": [],
      "source": [
        ""
      ]
    },
    {
      "cell_type": "markdown",
      "source": [
        "Ex 2: Write a function that takes an integer n and returns a random integer with exactly n digits. For\n",
        "instance, if n is 3, then 125 and 593 would be valid return values, but 093 would not because\n",
        "that is really 93, which is a two-digit number."
      ],
      "metadata": {
        "id": "0QS7SmPV-coO"
      }
    },
    {
      "cell_type": "code",
      "source": [
        ""
      ],
      "metadata": {
        "id": "c4ejnmGJ-MzL"
      },
      "execution_count": null,
      "outputs": []
    },
    {
      "cell_type": "markdown",
      "source": [
        "Ex 3: Write a function called number_of_factors that takes an integer and returns how many\n",
        "factors the number has."
      ],
      "metadata": {
        "id": "B0P_F5Ld-ldg"
      }
    },
    {
      "cell_type": "code",
      "source": [
        ""
      ],
      "metadata": {
        "id": "Yr2BLCXp-oTi"
      },
      "execution_count": null,
      "outputs": []
    },
    {
      "cell_type": "markdown",
      "source": [
        "Ex4: Write a function called first_diff that is given two strings and returns the first location in\n",
        "which the strings differ. If the strings are identical, it should return -1."
      ],
      "metadata": {
        "id": "7w0DDTyY-o_4"
      }
    },
    {
      "cell_type": "code",
      "source": [
        ""
      ],
      "metadata": {
        "id": "1WOvaf0z-6J6"
      },
      "execution_count": null,
      "outputs": []
    },
    {
      "cell_type": "markdown",
      "source": [
        "Ex5: Write a function called root that is given a number x and an integer n and returns x1/n. In\n",
        "the function definition, set the default value of n to 2."
      ],
      "metadata": {
        "id": "jLM8fAg_-6th"
      }
    },
    {
      "cell_type": "code",
      "source": [
        ""
      ],
      "metadata": {
        "id": "1TrSgTDa_Fu0"
      },
      "execution_count": null,
      "outputs": []
    }
  ]
}