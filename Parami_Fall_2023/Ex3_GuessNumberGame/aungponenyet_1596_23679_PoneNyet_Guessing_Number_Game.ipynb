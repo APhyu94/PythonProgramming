{
  "cells": [
    {
      "cell_type": "code",
      "execution_count": null,
      "metadata": {
        "colab": {
          "base_uri": "https://localhost:8080/"
        },
        "id": "uk7GJBmMgSSv",
        "outputId": "d073bc79-7683-465b-f8b4-ba1330ce1af2"
      },
      "outputs": [
        {
          "output_type": "stream",
          "name": "stdout",
          "text": [
            "Welcome to the Number Guessing Game!\n",
            "I'm thinking of a number between 1 and 100000. You have 10 attempts. Can you guess what it is?\n",
            "If your guessing number is larger than the number, I'll say 'too high,' and if it's smaller, I'll say 'too low.'\n",
            "You have 30 seconds for each guess.\n"
          ]
        }
      ],
      "source": [
        "import random\n",
        "import time\n",
        "\n",
        "def play_game():\n",
        "    secret_number = random.randint(1, 100000)\n",
        "\n",
        "    attempts = 0\n",
        "    max_attempts = 10\n",
        "    time_limit = 30\n",
        "\n",
        "    print(\"Welcome to the Number Guessing Game!\")\n",
        "    print(f\"I'm thinking of a number between 1 and 100000. You have {max_attempts} attempts. Can you guess what it is?\")\n",
        "    print(\"If your guessing number is larger than the number, I'll say 'too high,' and if it's smaller, I'll say 'too low.'\")\n",
        "    print(f\"You have {time_limit} seconds for each guess.\")\n",
        "\n",
        "    while attempts < max_attempts:\n",
        "        try:\n",
        "            start_time = time.time()\n",
        "            guess = int(input(\"Enter your guess: \"))\n",
        "            end_time = time.time()\n",
        "            elapsed_time = end_time - start_time\n",
        "\n",
        "            time_left = time_limit - elapsed_time\n",
        "\n",
        "            attempts += 1\n",
        "            attempts_left = max_attempts - attempts\n",
        "\n",
        "            if guess == secret_number:\n",
        "                print(f\"Congratulations! You've guessed the secret number {secret_number} in {attempts} attempts.\")\n",
        "                break\n",
        "            elif guess < secret_number:\n",
        "                print(f\"Too low! Try a larger number. {attempts_left} attempts left. Time left: {int(time_left)} seconds\")\n",
        "            else:\n",
        "                print(f\"Too high! Try a smaller number. {attempts_left} attempts left. Time left: {int(time_left)} seconds\")\n",
        "        except ValueError:\n",
        "            print(\"Invalid input. Please enter a valid number between 1 and 100000.\")\n",
        "\n",
        "    if attempts == max_attempts:\n",
        "        print(f\"Sorry, you've reached the maximum number of attempts ({max_attempts}). The secret number was {secret_number}.\")\n",
        "\n",
        "    play_again = input(\"Do you want to play again? (yes/no): \").lower()\n",
        "    return play_again == \"yes\"\n",
        "\n",
        "while True:\n",
        "    if not play_game():\n",
        "        print(\"Thank you for playing!\")\n",
        "        break\n"
      ]
    }
  ],
  "metadata": {
    "colab": {
      "provenance": []
    },
    "kernelspec": {
      "display_name": "Python 3",
      "name": "python3"
    },
    "language_info": {
      "name": "python"
    }
  },
  "nbformat": 4,
  "nbformat_minor": 0
}