{
 "cells": [
  {
   "cell_type": "code",
   "execution_count": 41,
   "id": "3e800930-9644-4030-9b3b-c0736b07f418",
   "metadata": {},
   "outputs": [
    {
     "name": "stdin",
     "output_type": "stream",
     "text": [
      "Enter your guess:  33\n"
     ]
    },
    {
     "name": "stdout",
     "output_type": "stream",
     "text": [
      " \n",
      "Correct Answer is Higher than 33\n",
      "You have tried 1 out of 10 attempts.\n",
      "Your Attempts left: 9\n"
     ]
    },
    {
     "name": "stdin",
     "output_type": "stream",
     "text": [
      "Enter your guess:  33\n"
     ]
    },
    {
     "name": "stdout",
     "output_type": "stream",
     "text": [
      " \n",
      "Correct Answer is Higher than 33\n",
      "You have tried 2 out of 10 attempts.\n",
      "Your Attempts left: 8\n"
     ]
    },
    {
     "name": "stdin",
     "output_type": "stream",
     "text": [
      "Enter your guess:  33\n"
     ]
    },
    {
     "name": "stdout",
     "output_type": "stream",
     "text": [
      " \n",
      "Correct Answer is Higher than 33\n",
      "You have tried 3 out of 10 attempts.\n",
      "Your Attempts left: 7\n"
     ]
    },
    {
     "name": "stdin",
     "output_type": "stream",
     "text": [
      "Enter your guess:  33\n"
     ]
    },
    {
     "name": "stdout",
     "output_type": "stream",
     "text": [
      " \n",
      "Correct Answer is Higher than 33\n",
      "You have tried 4 out of 10 attempts.\n",
      "Your Attempts left: 6\n"
     ]
    },
    {
     "name": "stdin",
     "output_type": "stream",
     "text": [
      "Enter your guess:  33\n"
     ]
    },
    {
     "name": "stdout",
     "output_type": "stream",
     "text": [
      " \n",
      "Correct Answer is Higher than 33\n",
      "You have tried 5 out of 10 attempts.\n",
      "Your Attempts left: 5\n"
     ]
    },
    {
     "name": "stdin",
     "output_type": "stream",
     "text": [
      "Enter your guess:  33\n"
     ]
    },
    {
     "name": "stdout",
     "output_type": "stream",
     "text": [
      " \n",
      "Correct Answer is Higher than 33\n",
      "You have tried 6 out of 10 attempts.\n",
      "Your Attempts left: 4\n"
     ]
    },
    {
     "name": "stdin",
     "output_type": "stream",
     "text": [
      "Enter your guess:  33\n"
     ]
    },
    {
     "name": "stdout",
     "output_type": "stream",
     "text": [
      " \n",
      "Correct Answer is Higher than 33\n",
      "You have tried 7 out of 10 attempts.\n",
      "Your Attempts left: 3\n"
     ]
    },
    {
     "name": "stdin",
     "output_type": "stream",
     "text": [
      "Enter your guess:  33\n"
     ]
    },
    {
     "name": "stdout",
     "output_type": "stream",
     "text": [
      " \n",
      "Correct Answer is Higher than 33\n",
      "You have tried 8 out of 10 attempts.\n",
      "Your Attempts left: 2\n"
     ]
    },
    {
     "name": "stdin",
     "output_type": "stream",
     "text": [
      "Enter your guess:  33\n"
     ]
    },
    {
     "name": "stdout",
     "output_type": "stream",
     "text": [
      " \n",
      "Correct Answer is Higher than 33\n",
      "You have tried 9 out of 10 attempts.\n",
      "Your Attempts left: 1\n"
     ]
    },
    {
     "name": "stdin",
     "output_type": "stream",
     "text": [
      "Enter your guess:  33\n"
     ]
    },
    {
     "name": "stdout",
     "output_type": "stream",
     "text": [
      " \n",
      "Correct Answer is Higher than 33\n",
      "You have tried 10 out of 10 attempts.\n",
      "Your Attempts left: 0\n",
      " \n",
      "Sorry Mate, You just lost the game.\n",
      "The correct answer is 45 🤣 🤣.\n"
     ]
    },
    {
     "name": "stdin",
     "output_type": "stream",
     "text": [
      "Are You Ready To Start Again? Type 'anything' to restart the game or just 'no' to stop the game. no\n"
     ]
    },
    {
     "name": "stdout",
     "output_type": "stream",
     "text": [
      " \n",
      "Huhh.... Alright, I see you don't love me. 😞 😞\n",
      "Goodbye! Thanks for playing with me, Mate.\n"
     ]
    }
   ],
   "source": [
    "import random\n",
    "\n",
    "while True:\n",
    "    number = random.randint(1, 101)\n",
    "    attempts = 0\n",
    "\n",
    "    while attempts < 10:\n",
    "        guess = input(\"Enter your guess: \")\n",
    "\n",
    "        if not guess.isdigit():\n",
    "            print(\"Type Only Numbers.\")\n",
    "            continue\n",
    "\n",
    "        guess = int(guess)  # Convert the valid input to an integer\n",
    "        attempts += 1\n",
    "\n",
    "        if guess < number:\n",
    "            print(\" \")\n",
    "            print(\"Correct Answer is Higher than\", guess)\n",
    "            print(\"You have tried {} out of 10 attempts.\".format(attempts))\n",
    "            print(\"Your Attempts left: \" + str(10 - attempts))\n",
    "\n",
    "        elif guess > number:\n",
    "            print(\" \")\n",
    "            print(\"Correct Answer is Lower than\", guess)\n",
    "            print(\"Your Attempts left: \" + str(10 - attempts))\n",
    "\n",
    "        else:\n",
    "            print(\" \")\n",
    "            print(\"\\U0001F389 \\U0001F389 Wow, Congratulations! \\U0001F973 \\U0001F973\")\n",
    "            print(\"You Are Correct, Mate! You won with {} out of 10 attempts. \\U0001F44F \\U0001F44F\".format(attempts))\n",
    "            print(\" \")\n",
    "            break\n",
    "\n",
    "    else:\n",
    "        print(\" \")\n",
    "        print(\"Sorry Mate, You just lost the game.\")\n",
    "        print(\"The correct answer is {} \\U0001F923 \\U0001F923.\".format(number))\n",
    "\n",
    "    option = input(\"Are You Ready To Start Again? Type 'anything' to restart the game or just 'no' to stop the game.\")\n",
    "\n",
    "    if option.lower() == \"no\":\n",
    "        print(\" \")\n",
    "        print(\"Huhh.... Alright, I see you don't love me. \\U0001F61E \\U0001F61E\")\n",
    "        print(\"Goodbye! Thanks for playing with me, Mate.\")\n",
    "        break\n",
    "\n",
    "    elif option.lower() != \"no\":\n",
    "        print(\"Alright, Let's Start Again. Shall We?\")"
   ]
  }
 ],
 "metadata": {
  "kernelspec": {
   "display_name": "Python 3 (ipykernel)",
   "language": "python",
   "name": "python3"
  },
  "language_info": {
   "codemirror_mode": {
    "name": "ipython",
    "version": 3
   },
   "file_extension": ".py",
   "mimetype": "text/x-python",
   "name": "python",
   "nbconvert_exporter": "python",
   "pygments_lexer": "ipython3",
   "version": "3.11.5"
  }
 },
 "nbformat": 4,
 "nbformat_minor": 5
}
