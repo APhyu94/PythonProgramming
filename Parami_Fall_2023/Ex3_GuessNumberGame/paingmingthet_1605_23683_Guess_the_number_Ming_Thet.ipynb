{
  "nbformat": 4,
  "nbformat_minor": 0,
  "metadata": {
    "colab": {
      "provenance": []
    },
    "kernelspec": {
      "name": "python3",
      "display_name": "Python 3"
    },
    "language_info": {
      "name": "python"
    }
  },
  "cells": [
    {
      "cell_type": "code",
      "execution_count": 30,
      "metadata": {
        "colab": {
          "base_uri": "https://localhost:8080/"
        },
        "id": "CtE6m4q0sAWE",
        "outputId": "84b87fc7-1baa-4f4d-8607-ebc9704fa78a"
      },
      "outputs": [
        {
          "name": "stdout",
          "output_type": "stream",
          "text": [
            "Welcome to Guess The Number Game! You have 10 attempts to guess the correct number. If you guess it within 10 tries, you win. If you can't guess it, you lose.\n",
            "Let's Start!\n",
            "Enter your guess: 1\n",
            "Too low! 9 attempt left.\n",
            "Enter your guess: 1\n",
            "Too low! 8 attempt left.\n",
            "Enter your guess: 1\n",
            "Too low! 7 attempt left.\n",
            "Enter your guess: 1\n",
            "Too low! 6 attempt left.\n",
            "Enter your guess: 1\n",
            "Too low! 5 attempt left.\n",
            "Enter your guess: 1\n",
            "Too low! 4 attempt left.\n",
            "Enter your guess: 1\n",
            "Too low! 3 attempt left.\n",
            "Enter your guess: 1\n",
            "Too low! 2 attempt left.\n",
            "Enter your guess: 1\n",
            "Too low! 1 attempt left.\n",
            "Enter your guess: 1\n",
            "Too low! 0 attempt left.\n",
            "Nice try but you lose. good luck for next time!\n",
            "The correct number was: 565481\n",
            "Do you want to play again? Type (yes) in small letter to play again : no\n"
          ]
        }
      ],
      "source": [
        "import random\n",
        "\n",
        "playagain = 'yes'\n",
        "\n",
        "while playagain == 'yes':\n",
        "        number = random.randint(123456, 654321)\n",
        "        attempts = 0\n",
        "        print(\"Welcome to Guess The Number Game! You have 10 attempts to guess the correct number. If you guess it within 10 tries, you win. If you can't guess it, you lose.\")\n",
        "        print(\"Let's Start!\")\n",
        "\n",
        "        while attempts < 10:\n",
        "            guess = int(input(\"Enter your guess: \"))\n",
        "            attempts = attempts + 1\n",
        "            attempts_left = 10 - attempts\n",
        "\n",
        "            if guess < number:\n",
        "                print(\"Too low! {} attempt left.\". format(attempts_left))\n",
        "            elif guess > number:\n",
        "                print(\"Too high!  {} attempt left.\". format(attempts_left))\n",
        "            else:\n",
        "                print(\"Congratulations! You guessed the correct number!\")\n",
        "                break\n",
        "\n",
        "        if attempts == 10:\n",
        "            print(\"Nice try but you lose. good luck for next time!\")\n",
        "            print(\"The correct number was:\", number)\n",
        "\n",
        "        playagain = input(\"Do you want to play again? Type (yes) in small letter to play again : \")\n",
        "\n"
      ]
    }
  ]
}