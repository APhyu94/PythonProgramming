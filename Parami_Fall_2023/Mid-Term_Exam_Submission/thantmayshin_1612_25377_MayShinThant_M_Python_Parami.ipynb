{
  "cells": [
    {
      "cell_type": "markdown",
      "metadata": {
        "id": "bBSbIZTtW7q4"
      },
      "source": [
        "1) Write a Python program to create a dictionary that count the frequency of words in the string given in Q1.txt. Find the most frequent occured word."
      ]
    },
    {
      "cell_type": "code",
      "execution_count": 1,
      "metadata": {
        "colab": {
          "base_uri": "https://localhost:8080/"
        },
        "id": "l6y53V9ZWzox",
        "outputId": "68cf15bb-fb80-4716-850d-0a332728d81f"
      },
      "outputs": [
        {
          "name": "stdout",
          "output_type": "stream",
          "text": [
            "Word Frequency Dictionary:\n",
            "Counter({'I': 4, 'and': 4, 'the': 3, 'to': 3, 'it': 3, 'It': 2, 'are': 2, 'love': 1, 'this': 1, 'movie!': 1, 'is': 1, 'sweet,': 1, 'but': 1, 'with': 1, 'satirical': 1, 'humor.': 1, 'The': 1, 'dialogs': 1, 'great': 1, 'adventure': 1, 'scenes': 1, 'fun.': 1, 'manages': 1, 'be': 1, 'romantic': 1, 'whimsical': 1, 'while': 1, 'laughingat': 1, 'conventions': 1, 'of': 1, 'fairy': 1, 'tale': 1, 'genre.': 1, 'would': 1, 'recommend': 1, 'just': 1, 'about': 1, 'anyone.': 1, 'have': 1, 'seen': 1, 'several': 1, 'times': 1, 'am': 1, 'always': 1, 'happy': 1, 'see': 1, 'again': 1, 'again.': 1})\n",
            "\n",
            "Most frequent occured word: I\n"
          ]
        }
      ],
      "source": [
        "from collections import Counter\n",
        "#step 1: read content from Q1.txt into list\n",
        "with open('Q1.txt', 'r') as file1:\n",
        "    wordlist = file1.read().strip().split()\n",
        "\n",
        "#Step 2:\n",
        "word_count_dict = {}\n",
        "word_count_dict = Counter(wordlist)\n",
        "\n",
        "#Step 3:\n",
        "most_occured_word = max(word_count_dict, key=word_count_dict.get)\n",
        "\n",
        "#Step 4:\n",
        "print(\"Word Frequency Dictionary:\")\n",
        "print(word_count_dict)\n",
        "print(\"\\nMost frequent occured word:\", most_occured_word)"
      ]
    },
    {
      "cell_type": "markdown",
      "metadata": {
        "id": "aQP7q021Xr9W"
      },
      "source": [
        "2) Write a Python program to read the name from Q2.txt and create email using domain 'parami.edu.mm' and save the results as dictionary :\n",
        "{'name': 'name@parami.edu.mm'}.\n",
        "Please take note that your email should not include space or any special characters and all charcters should be in lowercase."
      ]
    },
    {
      "cell_type": "code",
      "execution_count": 3,
      "metadata": {
        "colab": {
          "base_uri": "https://localhost:8080/"
        },
        "id": "2B2TGvQCXuR3",
        "outputId": "df060c81-eb2d-4faf-bbcc-213c1816fb10"
      },
      "outputs": [
        {
          "data": {
            "text/plain": [
              "{'Dechen Dorji': 'dechendorji@parami.edu.mm',\n",
              " 'Deki Tshomo': 'dekitshomo@parami.edu.mm',\n",
              " 'Dorji Tshering': 'dorjitshering@parami.edu.mm',\n",
              " 'Dorji Wangmo': 'dorjiwangmo@parami.edu.mm',\n",
              " 'Gem Tshering Lepcha': 'gemtsheringlepcha@parami.edu.mm',\n",
              " 'Jigme Dorji': 'jigmedorji@parami.edu.mm',\n",
              " 'Kinley Cheki': 'kinleycheki@parami.edu.mm',\n",
              " 'Kinley Wangmo': 'kinleywangmo@parami.edu.mm',\n",
              " 'Ngawang Dema Karpo': 'ngawangdemakarpo@parami.edu.mm',\n",
              " 'Roshan Chhetri': 'roshanchhetri@parami.edu.mm',\n",
              " 'Sonam Tenzin': 'sonamtenzin@parami.edu.mm',\n",
              " 'Sonam Tobgay': 'sonamtobgay@parami.edu.mm',\n",
              " 'Sonam Yangden': 'sonamyangden@parami.edu.mm',\n",
              " 'Tandin Om': 'tandinom@parami.edu.mm',\n",
              " 'Tandin Wangchuk': 'tandinwangchuk@parami.edu.mm',\n",
              " 'Tashi Om': 'tashiom@parami.edu.mm',\n",
              " 'Tenday Zangmo': 'tendayzangmo@parami.edu.mm',\n",
              " 'Tshering Pem': 'tsheringpem@parami.edu.mm',\n",
              " 'Ugyen Phurpa': 'ugyenphurpa@parami.edu.mm',\n",
              " 'Marmitt': 'marmitt@parami.edu.mm'}"
            ]
          },
          "execution_count": 3,
          "metadata": {},
          "output_type": "execute_result"
        }
      ],
      "source": [
        "import re\n",
        "#step 1: read Q2. txt into the list\n",
        "with open ('Q2.txt', 'r') as names:\n",
        "    header = names.readline()\n",
        "    namelist = names.readlines()\n",
        "#step 2: create dictionary, remove spaces and special characters, make the characters in lowercase.\n",
        "email_dictionary = {}\n",
        "for name in namelist:\n",
        "    clean_name = re.sub(r'[^\\w\\s]', '', name.strip()).lower().replace(' ', '')\n",
        "    email = clean_name + '@parami.edu.mm'\n",
        "    email_dictionary[name.strip()] = email\n",
        "\n",
        "email_dictionary\n"
      ]
    },
    {
      "cell_type": "code",
      "execution_count": null,
      "metadata": {},
      "outputs": [],
      "source": []
    }
  ],
  "metadata": {
    "colab": {
      "provenance": []
    },
    "kernelspec": {
      "display_name": "Python 3",
      "name": "python3"
    },
    "language_info": {
      "codemirror_mode": {
        "name": "ipython",
        "version": 3
      },
      "file_extension": ".py",
      "mimetype": "text/x-python",
      "name": "python",
      "nbconvert_exporter": "python",
      "pygments_lexer": "ipython3",
      "version": "3.9.13"
    }
  },
  "nbformat": 4,
  "nbformat_minor": 0
}
