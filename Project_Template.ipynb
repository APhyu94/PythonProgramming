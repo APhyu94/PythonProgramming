{
 "cells": [
  {
   "cell_type": "markdown",
   "metadata": {},
   "source": [
    "Write a Python function that takes a password string as input and checks if it meets the typical requirements for a strong password. These requirements include:\n",
    "\n",
    "Being at least 8 characters long.\n",
    "Containing a mix of uppercase and lowercase letters.\n",
    "Including at least one digit.\n",
    "Including at least one special character.\n",
    "Your function should return Pass if the password meets these requirements; otherwise, it should return a message indicating what is missing, and Fail\n",
    "\n",
    "\n",
    "Test Cases: \n",
    "1) Input --> mystr = \"riChard@98#BCSR\", Output --> Pass\n",
    "2) Input --> mystr = \"richen2022\", Output --> Fail\n",
    "\n",
    "Hint: \n",
    "1) Use isdigit function to check if a charcter is a digit\n",
    "2) Use isalnum function to check if a character is an alphabet (a-z) and a digit (0-9)\n",
    "3) Use isupper function to check if a character is in upper case \n",
    "4) Use islower function to check if a character is in lower case"
   ]
  },
  {
   "cell_type": "code",
   "execution_count": null,
   "metadata": {},
   "outputs": [],
   "source": [
    "def check_password(pwd):\n",
    "    b1 = len(pwd)>=8\n",
    "    b2 = any(char.isdigit() for char in pwd)    \n",
    "    b3 = any(not char.isalnum() for char in pwd)\n",
    "    b4 = any(char.isupper() for char in pwd)\n",
    "    b5 = any(char.islower() for char in pwd)\n",
    "    result = [b1, b2, b3, b4, b5]  \n",
    "    error_message = [\"Password must contain at least 8 characters\", \n",
    "                     \"Passoword must contain at least 1 digit\",\n",
    "                     \"Passoword must contain at least 1 special character\",\n",
    "                     \"Passoword must contain at least 1 upper case character\",\n",
    "                     \"Passoword must contain at least 1 lower case character\"]\n",
    "    \n",
    "    res = [error_message[idx] for idx, val in enumerate(result) if not val]\n",
    "    if(sum(result)<5):\n",
    "        return res\n",
    "    else:\n",
    "        return (f\"Pass\")"
   ]
  },
  {
   "cell_type": "code",
   "execution_count": null,
   "metadata": {},
   "outputs": [],
   "source": [
    "check_password(\"riChard@98#BCSR\")"
   ]
  },
  {
   "cell_type": "code",
   "execution_count": null,
   "metadata": {},
   "outputs": [],
   "source": [
    "def read_file(filename):\n",
    "    try:\n",
    "        with open(filename, 'r') as file:\n",
    "            content = file.read()\n",
    "            print(\"File content:\")\n",
    "            print(content)\n",
    "    except FileNotFoundError:\n",
    "        print(f\"Error: File '{filename}' not found.\")\n",
    "    except PermissionError:\n",
    "        print(f\"Error: Permission denied to open '{filename}'.\")\n",
    "    except Exception as e:\n",
    "        print(f\"Unexpected error: {e}\")\n",
    "    else:\n",
    "        print(\"File reading completed successfully.\")\n",
    "\n",
    "\n"
   ]
  },
  {
   "cell_type": "code",
   "execution_count": null,
   "metadata": {},
   "outputs": [],
   "source": [
    "def divide(x, y):\n",
    "    try:\n",
    "        result = x / y\n",
    "    except ZeroDivisionError:\n",
    "        print(\"Error: Division by zero!\")\n",
    "    except TypeError as e:\n",
    "        print(f\"Error: {e}\")\n",
    "    except Exception as e:\n",
    "        print(f\"Unexpected error: {e}\")\n",
    "    else:\n",
    "        print(f\"The result of division is: {result}\")\n",
    "\n"
   ]
  },
  {
   "cell_type": "code",
   "execution_count": null,
   "metadata": {},
   "outputs": [],
   "source": []
  }
 ],
 "metadata": {
  "kernelspec": {
   "display_name": "Python 3",
   "language": "python",
   "name": "python3"
  },
  "language_info": {
   "codemirror_mode": {
    "name": "ipython",
    "version": 3
   },
   "file_extension": ".py",
   "mimetype": "text/x-python",
   "name": "python",
   "nbconvert_exporter": "python",
   "pygments_lexer": "ipython3",
   "version": "3.12.1"
  }
 },
 "nbformat": 4,
 "nbformat_minor": 2
}
