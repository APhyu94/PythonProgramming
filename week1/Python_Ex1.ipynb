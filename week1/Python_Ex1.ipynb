{
  "nbformat": 4,
  "nbformat_minor": 0,
  "metadata": {
    "colab": {
      "name": "Python_Ex1.ipynb",
      "provenance": [],
      "collapsed_sections": []
    },
    "kernelspec": {
      "name": "python3",
      "display_name": "Python 3"
    },
    "language_info": {
      "name": "python"
    }
  },
  "cells": [
    {
      "cell_type": "markdown",
      "source": [
        "# Introduction"
      ],
      "metadata": {
        "id": "thgO68_HZ0Aa"
      }
    },
    {
      "cell_type": "markdown",
      "source": [
        "This section introduces the Python Programming uisng Colab. Follow the instructions and complete the exercises."
      ],
      "metadata": {
        "id": "PIh3i0c_Z_yP"
      }
    },
    {
      "cell_type": "markdown",
      "source": [
        "# Ex 1 : Check Version"
      ],
      "metadata": {
        "id": "gCw6SfeFZ78l"
      }
    },
    {
      "cell_type": "markdown",
      "source": [
        "Using the below cell, Import the required library and check the version of the python in your environment. "
      ],
      "metadata": {
        "id": "6Vm-27iLabjm"
      }
    },
    {
      "cell_type": "code",
      "source": [
        ""
      ],
      "metadata": {
        "id": "PJDYHB4AXVdc"
      },
      "execution_count": null,
      "outputs": []
    },
    {
      "cell_type": "markdown",
      "source": [
        "# Ex2 : Convert Currency. "
      ],
      "metadata": {
        "id": "5qTEiwGlawf5"
      }
    },
    {
      "cell_type": "markdown",
      "source": [
        "Write a program that asks the user for the amount in usd and converts it to British pounds. The exchange rate is from usd to BP is given as 0.82"
      ],
      "metadata": {
        "id": "XH8K1p0ypVCg"
      }
    },
    {
      "cell_type": "code",
      "source": [
        "usd_amount = input (\"Enter the amount in USD: \")\n",
        "bp_amount = int(usd_amount) *0.82\n",
        "print(\"{} usd is equivalent to {} british pound\".format(usd_amount, bp_amount))"
      ],
      "metadata": {
        "id": "x9xQXOnRa0MS",
        "colab": {
          "base_uri": "https://localhost:8080/"
        },
        "outputId": "64294c78-0769-4728-f781-9204a1aa51e3"
      },
      "execution_count": 16,
      "outputs": [
        {
          "output_type": "stream",
          "name": "stdout",
          "text": [
            "Enter the amount in USD: 1500\n",
            "1500 usd is equivalent to 1230.0 british pound\n"
          ]
        }
      ]
    },
    {
      "cell_type": "markdown",
      "source": [
        "# Ex 3: Temperature Converter"
      ],
      "metadata": {
        "id": "ePfECwUIpli4"
      }
    },
    {
      "cell_type": "markdown",
      "source": [
        "Write a program that convert temperature in Feranhite to celsius. "
      ],
      "metadata": {
        "id": "Y60hUWDsp3pK"
      }
    },
    {
      "cell_type": "code",
      "source": [
        ""
      ],
      "metadata": {
        "id": "G9PbO6qPoUfn"
      },
      "execution_count": null,
      "outputs": []
    },
    {
      "cell_type": "markdown",
      "source": [
        "# Ex 4: Daily Maths"
      ],
      "metadata": {
        "id": "a2kNRO9Vp7Qz"
      }
    },
    {
      "cell_type": "markdown",
      "source": [
        "You are working in a retail shop. Write a program that computes the total cost for a customer that bought 3 differnt types of fruits : apple, orange, mango. Ask the user to enter the quantity and price for each type. "
      ],
      "metadata": {
        "id": "lItKon9qqEUn"
      }
    },
    {
      "cell_type": "code",
      "source": [
        ""
      ],
      "metadata": {
        "id": "mIQFjH6wqDma"
      },
      "execution_count": null,
      "outputs": []
    },
    {
      "cell_type": "markdown",
      "source": [
        "# Ex 5 : Greeting"
      ],
      "metadata": {
        "id": "31fXlmEQqgvW"
      }
    },
    {
      "cell_type": "markdown",
      "source": [
        "Write a program to greet the customer who provides the user name. Your program should ask the name of the customer and print \"Hello + customer name\""
      ],
      "metadata": {
        "id": "zvnmj8MGrJIw"
      }
    },
    {
      "cell_type": "code",
      "source": [
        ""
      ],
      "metadata": {
        "id": "Z6ynxZMarIXh"
      },
      "execution_count": null,
      "outputs": []
    }
  ]
}